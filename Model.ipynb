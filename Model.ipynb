{
  "cells": [
    {
      "cell_type": "code",
      "execution_count": null,
      "metadata": {
        "id": "zQ8CvC03Gvmk"
      },
      "outputs": [],
      "source": [
        "#importing libraries\n",
        "import pandas as pd\n",
        "import numpy as np\n",
        "import matplotlib.pyplot as plt\n",
        "import seaborn as sns\n",
        "#import scikit to split data into test and train\n",
        "from sklearn.model_selection import train_test_split, cross_val_score\n",
        "#for label encoding\n",
        "from sklearn.preprocessing import LabelEncoder\n",
        "#for model\n",
        "from sklearn.tree import DecisionTreeClassifier\n",
        "from sklearn.metrics import confusion_matrix, classification_report, accuracy_score"
      ]
    },
    {
      "cell_type": "code",
      "execution_count": null,
      "metadata": {
        "colab": {
          "base_uri": "https://localhost:8080/"
        },
        "id": "-82YcAxXdnoA",
        "outputId": "b85b6d0d-b033-420e-d04d-220c4cae2e8c"
      },
      "outputs": [
        {
          "output_type": "stream",
          "name": "stdout",
          "text": [
            "Drive already mounted at /content/drive; to attempt to forcibly remount, call drive.mount(\"/content/drive\", force_remount=True).\n"
          ]
        }
      ],
      "source": [
        "#mounting drive\n",
        "from google.colab import drive\n",
        "drive.mount('/content/drive')"
      ]
    },
    {
      "cell_type": "code",
      "execution_count": null,
      "metadata": {
        "colab": {
          "base_uri": "https://localhost:8080/",
          "height": 145
        },
        "id": "jGLymXmhHK5q",
        "outputId": "45e9963a-dc09-45bb-f68b-0b9e1ef25a97"
      },
      "outputs": [
        {
          "output_type": "execute_result",
          "data": {
            "text/plain": [
              "       timestamp  rel_time     acc_x     acc_y     acc_z   gyro_x    gyro_y  \\\n",
              "0  3139004341000       0.0 -0.940165  9.595961 -2.358001 -1.10139  0.503658   \n",
              "\n",
              "     gyro_z    azimuth      pitch      roll label  \n",
              "0  0.100793  224.67455 -93.556175  1.853466   STD  "
            ],
            "text/html": [
              "\n",
              "  <div id=\"df-fc38bb81-3516-4fca-9e4c-8103e65359f7\">\n",
              "    <div class=\"colab-df-container\">\n",
              "      <div>\n",
              "<style scoped>\n",
              "    .dataframe tbody tr th:only-of-type {\n",
              "        vertical-align: middle;\n",
              "    }\n",
              "\n",
              "    .dataframe tbody tr th {\n",
              "        vertical-align: top;\n",
              "    }\n",
              "\n",
              "    .dataframe thead th {\n",
              "        text-align: right;\n",
              "    }\n",
              "</style>\n",
              "<table border=\"1\" class=\"dataframe\">\n",
              "  <thead>\n",
              "    <tr style=\"text-align: right;\">\n",
              "      <th></th>\n",
              "      <th>timestamp</th>\n",
              "      <th>rel_time</th>\n",
              "      <th>acc_x</th>\n",
              "      <th>acc_y</th>\n",
              "      <th>acc_z</th>\n",
              "      <th>gyro_x</th>\n",
              "      <th>gyro_y</th>\n",
              "      <th>gyro_z</th>\n",
              "      <th>azimuth</th>\n",
              "      <th>pitch</th>\n",
              "      <th>roll</th>\n",
              "      <th>label</th>\n",
              "    </tr>\n",
              "  </thead>\n",
              "  <tbody>\n",
              "    <tr>\n",
              "      <th>0</th>\n",
              "      <td>3139004341000</td>\n",
              "      <td>0.0</td>\n",
              "      <td>-0.940165</td>\n",
              "      <td>9.595961</td>\n",
              "      <td>-2.358001</td>\n",
              "      <td>-1.10139</td>\n",
              "      <td>0.503658</td>\n",
              "      <td>0.100793</td>\n",
              "      <td>224.67455</td>\n",
              "      <td>-93.556175</td>\n",
              "      <td>1.853466</td>\n",
              "      <td>STD</td>\n",
              "    </tr>\n",
              "  </tbody>\n",
              "</table>\n",
              "</div>\n",
              "      <button class=\"colab-df-convert\" onclick=\"convertToInteractive('df-fc38bb81-3516-4fca-9e4c-8103e65359f7')\"\n",
              "              title=\"Convert this dataframe to an interactive table.\"\n",
              "              style=\"display:none;\">\n",
              "        \n",
              "  <svg xmlns=\"http://www.w3.org/2000/svg\" height=\"24px\"viewBox=\"0 0 24 24\"\n",
              "       width=\"24px\">\n",
              "    <path d=\"M0 0h24v24H0V0z\" fill=\"none\"/>\n",
              "    <path d=\"M18.56 5.44l.94 2.06.94-2.06 2.06-.94-2.06-.94-.94-2.06-.94 2.06-2.06.94zm-11 1L8.5 8.5l.94-2.06 2.06-.94-2.06-.94L8.5 2.5l-.94 2.06-2.06.94zm10 10l.94 2.06.94-2.06 2.06-.94-2.06-.94-.94-2.06-.94 2.06-2.06.94z\"/><path d=\"M17.41 7.96l-1.37-1.37c-.4-.4-.92-.59-1.43-.59-.52 0-1.04.2-1.43.59L10.3 9.45l-7.72 7.72c-.78.78-.78 2.05 0 2.83L4 21.41c.39.39.9.59 1.41.59.51 0 1.02-.2 1.41-.59l7.78-7.78 2.81-2.81c.8-.78.8-2.07 0-2.86zM5.41 20L4 18.59l7.72-7.72 1.47 1.35L5.41 20z\"/>\n",
              "  </svg>\n",
              "      </button>\n",
              "      \n",
              "  <style>\n",
              "    .colab-df-container {\n",
              "      display:flex;\n",
              "      flex-wrap:wrap;\n",
              "      gap: 12px;\n",
              "    }\n",
              "\n",
              "    .colab-df-convert {\n",
              "      background-color: #E8F0FE;\n",
              "      border: none;\n",
              "      border-radius: 50%;\n",
              "      cursor: pointer;\n",
              "      display: none;\n",
              "      fill: #1967D2;\n",
              "      height: 32px;\n",
              "      padding: 0 0 0 0;\n",
              "      width: 32px;\n",
              "    }\n",
              "\n",
              "    .colab-df-convert:hover {\n",
              "      background-color: #E2EBFA;\n",
              "      box-shadow: 0px 1px 2px rgba(60, 64, 67, 0.3), 0px 1px 3px 1px rgba(60, 64, 67, 0.15);\n",
              "      fill: #174EA6;\n",
              "    }\n",
              "\n",
              "    [theme=dark] .colab-df-convert {\n",
              "      background-color: #3B4455;\n",
              "      fill: #D2E3FC;\n",
              "    }\n",
              "\n",
              "    [theme=dark] .colab-df-convert:hover {\n",
              "      background-color: #434B5C;\n",
              "      box-shadow: 0px 1px 3px 1px rgba(0, 0, 0, 0.15);\n",
              "      filter: drop-shadow(0px 1px 2px rgba(0, 0, 0, 0.3));\n",
              "      fill: #FFFFFF;\n",
              "    }\n",
              "  </style>\n",
              "\n",
              "      <script>\n",
              "        const buttonEl =\n",
              "          document.querySelector('#df-fc38bb81-3516-4fca-9e4c-8103e65359f7 button.colab-df-convert');\n",
              "        buttonEl.style.display =\n",
              "          google.colab.kernel.accessAllowed ? 'block' : 'none';\n",
              "\n",
              "        async function convertToInteractive(key) {\n",
              "          const element = document.querySelector('#df-fc38bb81-3516-4fca-9e4c-8103e65359f7');\n",
              "          const dataTable =\n",
              "            await google.colab.kernel.invokeFunction('convertToInteractive',\n",
              "                                                     [key], {});\n",
              "          if (!dataTable) return;\n",
              "\n",
              "          const docLinkHtml = 'Like what you see? Visit the ' +\n",
              "            '<a target=\"_blank\" href=https://colab.research.google.com/notebooks/data_table.ipynb>data table notebook</a>'\n",
              "            + ' to learn more about interactive tables.';\n",
              "          element.innerHTML = '';\n",
              "          dataTable['output_type'] = 'display_data';\n",
              "          await google.colab.output.renderOutput(dataTable, element);\n",
              "          const docLink = document.createElement('div');\n",
              "          docLink.innerHTML = docLinkHtml;\n",
              "          element.appendChild(docLink);\n",
              "        }\n",
              "      </script>\n",
              "    </div>\n",
              "  </div>\n",
              "  "
            ]
          },
          "metadata": {},
          "execution_count": 3
        }
      ],
      "source": [
        "#importing dataset\n",
        "dataset = pd.read_csv(\"/content/drive/MyDrive/MobiAct_Dataset_v2.0/output_/output.csv\")\n",
        "dataset.head(1)"
      ]
    },
    {
      "cell_type": "code",
      "execution_count": null,
      "metadata": {
        "id": "vqO54rkFI9Cd"
      },
      "outputs": [],
      "source": [
        "#deleting irrelevent column\n",
        "data = dataset.drop(['rel_time'], axis=1)"
      ]
    },
    {
      "cell_type": "code",
      "execution_count": null,
      "metadata": {
        "colab": {
          "base_uri": "https://localhost:8080/"
        },
        "id": "V_dC8Dd2sAvP",
        "outputId": "02ede66e-3307-4f6d-c855-501b47db457d"
      },
      "outputs": [
        {
          "output_type": "stream",
          "name": "stdout",
          "text": [
            "<class 'pandas.core.frame.DataFrame'>\n",
            "RangeIndex: 16815606 entries, 0 to 16815605\n",
            "Data columns (total 11 columns):\n",
            " #   Column     Dtype  \n",
            "---  ------     -----  \n",
            " 0   timestamp  int64  \n",
            " 1   acc_x      float64\n",
            " 2   acc_y      float64\n",
            " 3   acc_z      float64\n",
            " 4   gyro_x     float64\n",
            " 5   gyro_y     float64\n",
            " 6   gyro_z     float64\n",
            " 7   azimuth    float64\n",
            " 8   pitch      float64\n",
            " 9   roll       float64\n",
            " 10  label      object \n",
            "dtypes: float64(9), int64(1), object(1)\n",
            "memory usage: 1.4+ GB\n"
          ]
        }
      ],
      "source": [
        "data.info()"
      ]
    },
    {
      "cell_type": "markdown",
      "source": [
        "### label type object to float"
      ],
      "metadata": {
        "id": "-_MJzDQgDTfp"
      }
    },
    {
      "cell_type": "code",
      "source": [
        "data[\"label\"].value_counts()"
      ],
      "metadata": {
        "colab": {
          "base_uri": "https://localhost:8080/"
        },
        "id": "7ZSYxn1UDSYg",
        "outputId": "f00efcef-346c-4b7c-d709-ca28bbc6d1af"
      },
      "execution_count": null,
      "outputs": [
        {
          "output_type": "execute_result",
          "data": {
            "text/plain": [
              "STD    4938895\n",
              "WAL    4909529\n",
              "SIT    1178927\n",
              "JUM    1176407\n",
              "JOG    1158490\n",
              "LYI    1007136\n",
              "STU     656272\n",
              "STN     602789\n",
              "CSO     313397\n",
              "CSI     295789\n",
              "SCH     161803\n",
              "BSC     108918\n",
              "SDL      93992\n",
              "FKL      88614\n",
              "FOL      78960\n",
              "CHU      45688\n",
              "Name: label, dtype: int64"
            ]
          },
          "metadata": {},
          "execution_count": 6
        }
      ]
    },
    {
      "cell_type": "code",
      "source": [
        "order_label= {\"STD\":0, \"WAL\":0, \"SIT\":0, \"JUM\":0, \"JOG\":0, \"LYI\":0, \"STU\":0, \"STN\":0, \"CSO\":0, \"CSI\":0, \"SCH\":0, \"BSC\":1, \"SDL\":1, \"FKL\":1, \"FOL\":1, \"CHU\":0}"
      ],
      "metadata": {
        "id": "G4oSms61ES7E"
      },
      "execution_count": null,
      "outputs": []
    },
    {
      "cell_type": "code",
      "source": [
        "data[\"label\"] = data[\"label\"].map(order_label)"
      ],
      "metadata": {
        "id": "NpE1bvnLH1ZL"
      },
      "execution_count": null,
      "outputs": []
    },
    {
      "cell_type": "code",
      "source": [
        "data.head()"
      ],
      "metadata": {
        "colab": {
          "base_uri": "https://localhost:8080/",
          "height": 270
        },
        "id": "eGIbIMzXIS_s",
        "outputId": "8e655b11-a1ad-44cf-beab-233b6c07b2cf"
      },
      "execution_count": null,
      "outputs": [
        {
          "output_type": "execute_result",
          "data": {
            "text/plain": [
              "       timestamp     acc_x     acc_y     acc_z    gyro_x    gyro_y    gyro_z  \\\n",
              "0  3139004341000 -0.940165  9.595961 -2.358001 -1.101390  0.503658  0.100793   \n",
              "1  3139009320000 -0.943494  9.595961 -2.362280 -0.974635  0.419054  0.102625   \n",
              "2  3139014499000 -0.946956  9.595961 -2.366732 -0.841161  0.348804  0.090408   \n",
              "3  3139019518000 -0.950312  9.595961 -2.371046 -0.710131  0.311847  0.091019   \n",
              "4  3139024657000 -0.953748  9.595961 -2.375464 -0.587347  0.212276  0.043066   \n",
              "\n",
              "     azimuth      pitch      roll  label  \n",
              "0  224.67455 -93.556175  1.853466      0  \n",
              "1  224.54541 -93.389540  1.817058      0  \n",
              "2  224.40395 -93.258995  1.794242      0  \n",
              "3  224.27795 -93.163280  1.773880      0  \n",
              "4  224.18959 -93.089200  1.733693      0  "
            ],
            "text/html": [
              "\n",
              "  <div id=\"df-7aee4dbd-85cf-4d91-b2dd-cd0f39a8fcdc\">\n",
              "    <div class=\"colab-df-container\">\n",
              "      <div>\n",
              "<style scoped>\n",
              "    .dataframe tbody tr th:only-of-type {\n",
              "        vertical-align: middle;\n",
              "    }\n",
              "\n",
              "    .dataframe tbody tr th {\n",
              "        vertical-align: top;\n",
              "    }\n",
              "\n",
              "    .dataframe thead th {\n",
              "        text-align: right;\n",
              "    }\n",
              "</style>\n",
              "<table border=\"1\" class=\"dataframe\">\n",
              "  <thead>\n",
              "    <tr style=\"text-align: right;\">\n",
              "      <th></th>\n",
              "      <th>timestamp</th>\n",
              "      <th>acc_x</th>\n",
              "      <th>acc_y</th>\n",
              "      <th>acc_z</th>\n",
              "      <th>gyro_x</th>\n",
              "      <th>gyro_y</th>\n",
              "      <th>gyro_z</th>\n",
              "      <th>azimuth</th>\n",
              "      <th>pitch</th>\n",
              "      <th>roll</th>\n",
              "      <th>label</th>\n",
              "    </tr>\n",
              "  </thead>\n",
              "  <tbody>\n",
              "    <tr>\n",
              "      <th>0</th>\n",
              "      <td>3139004341000</td>\n",
              "      <td>-0.940165</td>\n",
              "      <td>9.595961</td>\n",
              "      <td>-2.358001</td>\n",
              "      <td>-1.101390</td>\n",
              "      <td>0.503658</td>\n",
              "      <td>0.100793</td>\n",
              "      <td>224.67455</td>\n",
              "      <td>-93.556175</td>\n",
              "      <td>1.853466</td>\n",
              "      <td>0</td>\n",
              "    </tr>\n",
              "    <tr>\n",
              "      <th>1</th>\n",
              "      <td>3139009320000</td>\n",
              "      <td>-0.943494</td>\n",
              "      <td>9.595961</td>\n",
              "      <td>-2.362280</td>\n",
              "      <td>-0.974635</td>\n",
              "      <td>0.419054</td>\n",
              "      <td>0.102625</td>\n",
              "      <td>224.54541</td>\n",
              "      <td>-93.389540</td>\n",
              "      <td>1.817058</td>\n",
              "      <td>0</td>\n",
              "    </tr>\n",
              "    <tr>\n",
              "      <th>2</th>\n",
              "      <td>3139014499000</td>\n",
              "      <td>-0.946956</td>\n",
              "      <td>9.595961</td>\n",
              "      <td>-2.366732</td>\n",
              "      <td>-0.841161</td>\n",
              "      <td>0.348804</td>\n",
              "      <td>0.090408</td>\n",
              "      <td>224.40395</td>\n",
              "      <td>-93.258995</td>\n",
              "      <td>1.794242</td>\n",
              "      <td>0</td>\n",
              "    </tr>\n",
              "    <tr>\n",
              "      <th>3</th>\n",
              "      <td>3139019518000</td>\n",
              "      <td>-0.950312</td>\n",
              "      <td>9.595961</td>\n",
              "      <td>-2.371046</td>\n",
              "      <td>-0.710131</td>\n",
              "      <td>0.311847</td>\n",
              "      <td>0.091019</td>\n",
              "      <td>224.27795</td>\n",
              "      <td>-93.163280</td>\n",
              "      <td>1.773880</td>\n",
              "      <td>0</td>\n",
              "    </tr>\n",
              "    <tr>\n",
              "      <th>4</th>\n",
              "      <td>3139024657000</td>\n",
              "      <td>-0.953748</td>\n",
              "      <td>9.595961</td>\n",
              "      <td>-2.375464</td>\n",
              "      <td>-0.587347</td>\n",
              "      <td>0.212276</td>\n",
              "      <td>0.043066</td>\n",
              "      <td>224.18959</td>\n",
              "      <td>-93.089200</td>\n",
              "      <td>1.733693</td>\n",
              "      <td>0</td>\n",
              "    </tr>\n",
              "  </tbody>\n",
              "</table>\n",
              "</div>\n",
              "      <button class=\"colab-df-convert\" onclick=\"convertToInteractive('df-7aee4dbd-85cf-4d91-b2dd-cd0f39a8fcdc')\"\n",
              "              title=\"Convert this dataframe to an interactive table.\"\n",
              "              style=\"display:none;\">\n",
              "        \n",
              "  <svg xmlns=\"http://www.w3.org/2000/svg\" height=\"24px\"viewBox=\"0 0 24 24\"\n",
              "       width=\"24px\">\n",
              "    <path d=\"M0 0h24v24H0V0z\" fill=\"none\"/>\n",
              "    <path d=\"M18.56 5.44l.94 2.06.94-2.06 2.06-.94-2.06-.94-.94-2.06-.94 2.06-2.06.94zm-11 1L8.5 8.5l.94-2.06 2.06-.94-2.06-.94L8.5 2.5l-.94 2.06-2.06.94zm10 10l.94 2.06.94-2.06 2.06-.94-2.06-.94-.94-2.06-.94 2.06-2.06.94z\"/><path d=\"M17.41 7.96l-1.37-1.37c-.4-.4-.92-.59-1.43-.59-.52 0-1.04.2-1.43.59L10.3 9.45l-7.72 7.72c-.78.78-.78 2.05 0 2.83L4 21.41c.39.39.9.59 1.41.59.51 0 1.02-.2 1.41-.59l7.78-7.78 2.81-2.81c.8-.78.8-2.07 0-2.86zM5.41 20L4 18.59l7.72-7.72 1.47 1.35L5.41 20z\"/>\n",
              "  </svg>\n",
              "      </button>\n",
              "      \n",
              "  <style>\n",
              "    .colab-df-container {\n",
              "      display:flex;\n",
              "      flex-wrap:wrap;\n",
              "      gap: 12px;\n",
              "    }\n",
              "\n",
              "    .colab-df-convert {\n",
              "      background-color: #E8F0FE;\n",
              "      border: none;\n",
              "      border-radius: 50%;\n",
              "      cursor: pointer;\n",
              "      display: none;\n",
              "      fill: #1967D2;\n",
              "      height: 32px;\n",
              "      padding: 0 0 0 0;\n",
              "      width: 32px;\n",
              "    }\n",
              "\n",
              "    .colab-df-convert:hover {\n",
              "      background-color: #E2EBFA;\n",
              "      box-shadow: 0px 1px 2px rgba(60, 64, 67, 0.3), 0px 1px 3px 1px rgba(60, 64, 67, 0.15);\n",
              "      fill: #174EA6;\n",
              "    }\n",
              "\n",
              "    [theme=dark] .colab-df-convert {\n",
              "      background-color: #3B4455;\n",
              "      fill: #D2E3FC;\n",
              "    }\n",
              "\n",
              "    [theme=dark] .colab-df-convert:hover {\n",
              "      background-color: #434B5C;\n",
              "      box-shadow: 0px 1px 3px 1px rgba(0, 0, 0, 0.15);\n",
              "      filter: drop-shadow(0px 1px 2px rgba(0, 0, 0, 0.3));\n",
              "      fill: #FFFFFF;\n",
              "    }\n",
              "  </style>\n",
              "\n",
              "      <script>\n",
              "        const buttonEl =\n",
              "          document.querySelector('#df-7aee4dbd-85cf-4d91-b2dd-cd0f39a8fcdc button.colab-df-convert');\n",
              "        buttonEl.style.display =\n",
              "          google.colab.kernel.accessAllowed ? 'block' : 'none';\n",
              "\n",
              "        async function convertToInteractive(key) {\n",
              "          const element = document.querySelector('#df-7aee4dbd-85cf-4d91-b2dd-cd0f39a8fcdc');\n",
              "          const dataTable =\n",
              "            await google.colab.kernel.invokeFunction('convertToInteractive',\n",
              "                                                     [key], {});\n",
              "          if (!dataTable) return;\n",
              "\n",
              "          const docLinkHtml = 'Like what you see? Visit the ' +\n",
              "            '<a target=\"_blank\" href=https://colab.research.google.com/notebooks/data_table.ipynb>data table notebook</a>'\n",
              "            + ' to learn more about interactive tables.';\n",
              "          element.innerHTML = '';\n",
              "          dataTable['output_type'] = 'display_data';\n",
              "          await google.colab.output.renderOutput(dataTable, element);\n",
              "          const docLink = document.createElement('div');\n",
              "          docLink.innerHTML = docLinkHtml;\n",
              "          element.appendChild(docLink);\n",
              "        }\n",
              "      </script>\n",
              "    </div>\n",
              "  </div>\n",
              "  "
            ]
          },
          "metadata": {},
          "execution_count": 9
        }
      ]
    },
    {
      "cell_type": "markdown",
      "metadata": {
        "id": "RAUMsNjjOHqf"
      },
      "source": [
        "### Data Cleaning"
      ]
    },
    {
      "cell_type": "code",
      "execution_count": null,
      "metadata": {
        "colab": {
          "base_uri": "https://localhost:8080/"
        },
        "id": "iERHpKb9KPxO",
        "outputId": "68d6dd26-0c7e-402f-ea69-c81c7ded822d"
      },
      "outputs": [
        {
          "output_type": "execute_result",
          "data": {
            "text/plain": [
              "timestamp    0\n",
              "acc_x        0\n",
              "acc_y        0\n",
              "acc_z        0\n",
              "gyro_x       0\n",
              "gyro_y       0\n",
              "gyro_z       0\n",
              "azimuth      0\n",
              "pitch        0\n",
              "roll         0\n",
              "label        0\n",
              "dtype: int64"
            ]
          },
          "metadata": {},
          "execution_count": 10
        }
      ],
      "source": [
        "#to check missing value\n",
        "data.isnull().sum()\n",
        "#there is no missing value in dataset"
      ]
    },
    {
      "cell_type": "markdown",
      "metadata": {
        "id": "vSuM41dZeFOe"
      },
      "source": [
        "### Train Test Spliting"
      ]
    },
    {
      "cell_type": "code",
      "execution_count": null,
      "metadata": {
        "colab": {
          "base_uri": "https://localhost:8080/"
        },
        "id": "kSaVx1rgeAwG",
        "outputId": "8c2b0d7c-e12f-48ad-91b4-ac1cb7a1ebe5"
      },
      "outputs": [
        {
          "output_type": "stream",
          "name": "stdout",
          "text": [
            "shape of X = (16815606, 10)\n",
            "shape of y = (16815606,)\n"
          ]
        }
      ],
      "source": [
        "#split dataset into independent \"X\" and dependent variables \"y\"\n",
        "X = data.drop(\"label\", axis=1)\n",
        "Y = data[\"label\"]\n",
        "#to know the shape of data\n",
        "print(\"shape of X =\", X.shape)\n",
        "print(\"shape of y =\", Y.shape)"
      ]
    },
    {
      "cell_type": "code",
      "execution_count": null,
      "metadata": {
        "colab": {
          "base_uri": "https://localhost:8080/"
        },
        "id": "i0d_Mlnvecsl",
        "outputId": "f6b6b7b6-9161-4e8b-c41f-9b058384074d"
      },
      "outputs": [
        {
          "output_type": "stream",
          "name": "stdout",
          "text": [
            "shape of X_train = (11770924, 10)\n",
            "shape of X_test = (5044682, 10)\n",
            "shape of y_train = (11770924,)\n",
            "shape of y_test = (5044682,)\n"
          ]
        }
      ],
      "source": [
        "#spliting dataset\n",
        "X_train, X_test, Y_train, Y_test = train_test_split(X,Y, test_size=0.3, random_state=1)\n",
        "print(\"shape of X_train =\", X_train.shape)\n",
        "print(\"shape of X_test =\", X_test.shape)\n",
        "print(\"shape of y_train =\", Y_train.shape)\n",
        "print(\"shape of y_test =\", Y_test.shape)"
      ]
    },
    {
      "cell_type": "code",
      "execution_count": null,
      "metadata": {
        "colab": {
          "base_uri": "https://localhost:8080/",
          "height": 362
        },
        "id": "NgqZDea0NNYA",
        "outputId": "e3bc3e81-43b7-42c4-c1ff-1abbbaf1e26d"
      },
      "outputs": [
        {
          "output_type": "stream",
          "name": "stderr",
          "text": [
            "/usr/local/lib/python3.7/dist-packages/seaborn/_decorators.py:43: FutureWarning: Pass the following variable as a keyword arg: x. From version 0.12, the only valid positional argument will be `data`, and passing other arguments without an explicit keyword will result in an error or misinterpretation.\n",
            "  FutureWarning\n"
          ]
        },
        {
          "output_type": "execute_result",
          "data": {
            "text/plain": [
              "<matplotlib.axes._subplots.AxesSubplot at 0x7f76cc9ac690>"
            ]
          },
          "metadata": {},
          "execution_count": 13
        },
        {
          "output_type": "display_data",
          "data": {
            "text/plain": [
              "<Figure size 432x288 with 1 Axes>"
            ],
            "image/png": "[encoded data removed]"
          },
          "metadata": {
            "needs_background": "light"
          }
        }
      ],
      "source": [
        "sns.countplot(data[\"label\"])"
      ]
    },
    {
      "cell_type": "markdown",
      "metadata": {
        "id": "s1NhAc1flZ5O"
      },
      "source": [
        "### Model building"
      ]
    },
    {
      "cell_type": "markdown",
      "metadata": {
        "id": "wvi7sDcyP6fZ"
      },
      "source": [
        "Decesion tree"
      ]
    },
    {
      "cell_type": "code",
      "execution_count": null,
      "metadata": {
        "id": "AGDN2-Jqe1Wr",
        "colab": {
          "base_uri": "https://localhost:8080/"
        },
        "outputId": "3e169698-059f-4790-e1ec-4deb975d0482"
      },
      "outputs": [
        {
          "output_type": "execute_result",
          "data": {
            "text/plain": [
              "0.9965052306567589"
            ]
          },
          "metadata": {},
          "execution_count": 14
        }
      ],
      "source": [
        "classifier_entropy = DecisionTreeClassifier(criterion=\"entropy\")\n",
        "classifier_entropy.fit(X_train, Y_train)\n",
        "Y_pred_dt=classifier_entropy.predict(X_test)\n",
        "accuracy_score(Y_test, Y_pred_dt)"
      ]
    },
    {
      "cell_type": "markdown",
      "metadata": {
        "id": "9QHs2AT5lzLa"
      },
      "source": [
        "### Confusion matrix"
      ]
    },
    {
      "cell_type": "code",
      "execution_count": null,
      "metadata": {
        "id": "E9Y31LqatY-J"
      },
      "outputs": [],
      "source": [
        "cm = confusion_matrix(Y_test,Y_pred_dt)"
      ]
    },
    {
      "cell_type": "code",
      "execution_count": null,
      "metadata": {
        "id": "dmacACnDuLFh",
        "colab": {
          "base_uri": "https://localhost:8080/",
          "height": 293
        },
        "outputId": "daeb37a4-6d88-468a-ac71-6d39d836601f"
      },
      "outputs": [
        {
          "output_type": "display_data",
          "data": {
            "text/plain": [
              "<Figure size 432x288 with 2 Axes>"
            ],
            "image/png": "[encoded data removed]"
          },
          "metadata": {
            "needs_background": "light"
          }
        },
        {
          "output_type": "display_data",
          "data": {
            "text/plain": [
              "<Figure size 1440x648 with 0 Axes>"
            ]
          },
          "metadata": {}
        }
      ],
      "source": [
        "sns.heatmap(cm, annot = True)\n",
        "plt.figure(figsize=( 20,9))\n",
        "plt.show()"
      ]
    },
    {
      "cell_type": "markdown",
      "metadata": {
        "id": "m-fE4-lhoSkK"
      },
      "source": [
        "### Classification report of model"
      ]
    },
    {
      "cell_type": "code",
      "execution_count": null,
      "metadata": {
        "colab": {
          "base_uri": "https://localhost:8080/"
        },
        "id": "jrm_ssefwESI",
        "outputId": "279043ce-36e7-4e4f-dd2a-6ab048b33fb5"
      },
      "outputs": [
        {
          "output_type": "stream",
          "name": "stdout",
          "text": [
            "              precision    recall  f1-score   support\n",
            "\n",
            "           0       1.00      1.00      1.00   4933612\n",
            "           1       0.93      0.91      0.92    111070\n",
            "\n",
            "    accuracy                           1.00   5044682\n",
            "   macro avg       0.96      0.96      0.96   5044682\n",
            "weighted avg       1.00      1.00      1.00   5044682\n",
            "\n"
          ]
        }
      ],
      "source": [
        "print(classification_report(Y_test, Y_pred_dt))"
      ]
    },
    {
      "cell_type": "markdown",
      "metadata": {
        "id": "rnX4Mwa5pMSh"
      },
      "source": [
        "### Cross validation"
      ]
    },
    {
      "cell_type": "code",
      "execution_count": null,
      "metadata": {
        "id": "_EMS4f0UI_1d"
      },
      "outputs": [],
      "source": [
        "cross_val = cross_val_score(estimator= classifier_entropy, X=X_train, y=Y_train, cv=10)"
      ]
    },
    {
      "cell_type": "code",
      "execution_count": null,
      "metadata": {
        "id": "Req6vh-Jv_sS",
        "colab": {
          "base_uri": "https://localhost:8080/"
        },
        "outputId": "fa9fe82e-c288-404b-94a2-712d6e2ba8fe"
      },
      "outputs": [
        {
          "output_type": "stream",
          "name": "stdout",
          "text": [
            "cross validation accuracy =  [0.99621865 0.99636307 0.99617702 0.99634693 0.99615918 0.99618467\n",
            " 0.99600626 0.99612944 0.99619996 0.9962127 ]\n"
          ]
        }
      ],
      "source": [
        "print(\"cross validation accuracy = \", cross_val )"
      ]
    },
    {
      "cell_type": "code",
      "execution_count": null,
      "metadata": {
        "id": "kkn5bHpMwEkR",
        "colab": {
          "base_uri": "https://localhost:8080/"
        },
        "outputId": "abe4ef38-8e76-4c8d-d079-d7b96f9328b8"
      },
      "outputs": [
        {
          "output_type": "stream",
          "name": "stdout",
          "text": [
            "cross validation mean accuracy =  0.9961997885377116\n"
          ]
        }
      ],
      "source": [
        "print(\"cross validation mean accuracy = \", cross_val.mean())"
      ]
    },
    {
      "cell_type": "markdown",
      "metadata": {
        "id": "BXX0RV1ls8TB"
      },
      "source": [
        "### Save the model"
      ]
    },
    {
      "cell_type": "code",
      "source": [
        "import pickle\n",
        "# save model\n",
        "pickle.dump(classifier_entropy, open('fall_model.pkl', 'wb'))\n",
        "\n",
        "# load model\n",
        "fall_model = pickle.load(open('fall_model.pkl', 'rb'))"
      ],
      "metadata": {
        "id": "NYFhs-y1Qj3O"
      },
      "execution_count": null,
      "outputs": []
    }
  ],
  "metadata": {
    "accelerator": "GPU",
    "colab": {
      "provenance": []
    },
    "gpuClass": "standard",
    "kernelspec": {
      "display_name": "Python 3",
      "name": "python3"
    },
    "language_info": {
      "name": "python"
    }
  },
  "nbformat": 4,
  "nbformat_minor": 0
}